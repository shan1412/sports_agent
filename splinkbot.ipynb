{
 "cells": [
  {
   "cell_type": "code",
   "execution_count": 77,
   "metadata": {},
   "outputs": [
    {
     "data": {
      "text/plain": [
       "True"
      ]
     },
     "execution_count": 77,
     "metadata": {},
     "output_type": "execute_result"
    }
   ],
   "source": [
    "from dotenv import load_dotenv\n",
    "from agents import Agent, Runner, trace, function_tool\n",
    "from typing import Dict,Union\n",
    "load_dotenv(override=True)"
   ]
  },
  {
   "cell_type": "markdown",
   "metadata": {},
   "source": [
    "#### Pydantic"
   ]
  },
  {
   "cell_type": "code",
   "execution_count": 117,
   "metadata": {},
   "outputs": [],
   "source": [
    "from pydantic import BaseModel,Field\n",
    "        \n",
    "class schedule_details(BaseModel):\n",
    "    contact: str\n",
    "    \"Contact Number of the User\"\n",
    "    \n",
    "    schedule_date_from: str\n",
    "    \"Schedule data from in format 'YYYY-MM-DD'\"\n",
    "    \n",
    "    schedule_date_to: str\n",
    "    \"Schedule data to in format 'YYYY-MM-DD'\"\n",
    "\n",
    "class NLP2SQLOutput(BaseModel):\n",
    "    sql_query: str\n",
    "    \"Generated SQL Query based on user's natural language request.\"\n",
    "\n",
    "    def __iter__(self):\n",
    "        # Allow unpacking or list conversion, e.g., list(obj) or obj1, obj2 = obj\n",
    "        yield self.sql_query\n",
    "\n",
    "class IntentChecker(BaseModel):\n",
    "    \"\"\"\n",
    "    Model to determine which agent should handle a given request.\n",
    "    \"\"\"\n",
    "    SQL_agent: bool = Field(\n",
    "        ...,\n",
    "        description=\"Set to True if SQL Agent is required for querying schedules or existing information of athletes or coaches.\"\n",
    "    )\n",
    "    knowledge_agent: bool = Field(\n",
    "        ...,\n",
    "        description=\"Set to True if the Knowledge Agent is required to handle general information queries.\"\n",
    "    )\n",
    "\n",
    "class KnowledgeAgentOutput(BaseModel):\n",
    "    \"\"\"\n",
    "    Knowledge Agent's response in a way that the Front Desk Agent can understand.\n",
    "    \"\"\"\n",
    "    response_to_frontdesk_agent: str\n",
    "    \n",
    "class FrontDeskOutput(BaseModel):\n",
    "    \"\"\"\n",
    "    Model to Respond to the end user\n",
    "    \"\"\"\n",
    "    respond_to_user : Union[str, bool]\n",
    "    \"A response the End user will have from the Call center Agent\"\n",
    "    ask_the_agent : Union[str, bool]\n",
    "    \"This the the prompt with detailes emphased to the intent detection Agent\"\n"
   ]
  },
  {
   "cell_type": "markdown",
   "metadata": {},
   "source": [
    "### Agents Declaration"
   ]
  },
  {
   "cell_type": "code",
   "execution_count": 83,
   "metadata": {},
   "outputs": [],
   "source": [
    "intent_agent = Agent(\n",
    "    name=\"Intent Judge\",\n",
    "    instructions=(\n",
    "        \"You are an intent classifier. Based on the user's message, decide which functional agent should handle it.\\n\"\n",
    "        \"- Set `SQL_agent` to True **if the message includes queries about schedules, training sessions, matches, or anything involving database lookups** for athletes or coaches.\\n\"\n",
    "        \"- Set `knowledge_agent` to True **if the message includes informational, instructional, or explanatory questions**, such as rules, guidelines, or general knowledge.\\n\"\n",
    "        \"Return a JSON with True or False for both `SQL_agent` and `knowledge_agent`. If the message includes both types of intent, set both to True.\"\n",
    "    ),\n",
    "    model=\"gpt-4o-mini\",\n",
    "    output_type=IntentChecker\n",
    ")\n"
   ]
  },
  {
   "cell_type": "code",
   "execution_count": 86,
   "metadata": {},
   "outputs": [],
   "source": [
    "with trace(\"Intent Detection\"):\n",
    "    result = await Runner.run(intent_agent, \"Hi, what are the schedule for today and instructions any to attend\")"
   ]
  },
  {
   "cell_type": "code",
   "execution_count": 87,
   "metadata": {},
   "outputs": [
    {
     "name": "stdout",
     "output_type": "stream",
     "text": [
      "RunResult:\n",
      "- Last agent: Agent(name=\"Intent Judge\", ...)\n",
      "- Final output (IntentChecker):\n",
      "    {\n",
      "      \"SQL_agent\": true,\n",
      "      \"knowledge_agent\": true\n",
      "    }\n",
      "- 1 new item(s)\n",
      "- 1 raw response(s)\n",
      "- 0 input guardrail result(s)\n",
      "- 0 output guardrail result(s)\n",
      "(See `RunResult` for more details)\n"
     ]
    }
   ],
   "source": [
    "print(result)"
   ]
  },
  {
   "cell_type": "code",
   "execution_count": 88,
   "metadata": {},
   "outputs": [],
   "source": [
    "with trace(\"Intent Detection\"):\n",
    "    result = await Runner.run(intent_agent, \"Hi, what are the schedule for today\")"
   ]
  },
  {
   "cell_type": "code",
   "execution_count": 89,
   "metadata": {},
   "outputs": [
    {
     "name": "stdout",
     "output_type": "stream",
     "text": [
      "RunResult:\n",
      "- Last agent: Agent(name=\"Intent Judge\", ...)\n",
      "- Final output (IntentChecker):\n",
      "    {\n",
      "      \"SQL_agent\": true,\n",
      "      \"knowledge_agent\": false\n",
      "    }\n",
      "- 1 new item(s)\n",
      "- 1 raw response(s)\n",
      "- 0 input guardrail result(s)\n",
      "- 0 output guardrail result(s)\n",
      "(See `RunResult` for more details)\n"
     ]
    }
   ],
   "source": [
    "print(result)"
   ]
  },
  {
   "cell_type": "code",
   "execution_count": 90,
   "metadata": {},
   "outputs": [],
   "source": [
    "# sql_agent\n",
    "sql_agent = Agent(\n",
    "    name=\"SQL Agent\",\n",
    "    instructions=(\n",
    "        \"Convert the user's natural language query into a valid SQL query \"\n",
    "        \"to retrieve or update athlete/coach schedule information. \"\n",
    "        \"\"\"Respond only with a valid SQL query string in the 'sql_query' field.\n",
    "        You are an SQL Architect and you are tasked to generate Postgress SQL based on natural langauge question and schema below: \n",
    "        ### Schema: \n",
    "            CREATE TABLE public.athlete_batches (\n",
    "                id serial4 NOT NULL,\n",
    "                contact_no varchar(15) NOT NULL,\n",
    "                athlete_name text NOT NULL,\n",
    "                batch_name text NOT NULL,\n",
    "                \"date\" date NOT NULL,\n",
    "                start_time time NOT NULL,\n",
    "                end_time time NOT NULL,\n",
    "                status varchar(10) NOT NULL,\n",
    "                CONSTRAINT athlete_batches_pkey PRIMARY KEY (id),\n",
    "                CONSTRAINT athlete_batches_status_check CHECK (((status)::text = ANY ((ARRAY['Open'::character varying, 'Cancelled'::character varying])::text[])))\"\"\" \n",
    "    ),\n",
    "    model=\"gpt-4o-mini\",\n",
    "    output_type=NLP2SQLOutput\n",
    ")"
   ]
  },
  {
   "cell_type": "code",
   "execution_count": 91,
   "metadata": {},
   "outputs": [],
   "source": [
    "async def call_agent(agent, user_query: str):\n",
    "    with trace(f\"{agent.name}\"):\n",
    "        result = await Runner.run(agent, user_query)\n",
    "    return result.final_output"
   ]
  },
  {
   "cell_type": "code",
   "execution_count": 97,
   "metadata": {},
   "outputs": [
    {
     "data": {
      "text/plain": [
       "NLP2SQLOutput(sql_query='SELECT * FROM public.athlete_batches WHERE date = CURRENT_DATE;')"
      ]
     },
     "execution_count": 97,
     "metadata": {},
     "output_type": "execute_result"
    }
   ],
   "source": [
    "await call_agent(sql_agent,\"Hi, what are the schedule for today\")"
   ]
  },
  {
   "cell_type": "code",
   "execution_count": 98,
   "metadata": {},
   "outputs": [],
   "source": [
    "# knowledge_agent\n",
    "knowledge_agent = Agent(\n",
    "    name=\"Knowledge Agent\",\n",
    "    instructions=(\n",
    "        \"You are an expert on sports rules, strategies, and official sports news only. \"\n",
    "        \"Answer **only** questions related to sports rules, game strategies, \"\n",
    "        \"or recent verified sports news. \"\n",
    "        \"Do not answer questions about controversies, politics, personal opinions, or any unrelated topics. \"\n",
    "        \"If asked about topics outside this scope, respond politely stating you can only provide information about sports rules, strategies, or official sports news.\"\n",
    "    ),\n",
    "    model=\"gpt-4o-mini\",\n",
    "    output_type=KnowledgeAgentOutput\n",
    ")"
   ]
  },
  {
   "cell_type": "code",
   "execution_count": 99,
   "metadata": {},
   "outputs": [
    {
     "data": {
      "text/plain": [
       "KnowledgeAgentOutput(response_to_frontdesk_agent=\"I can only provide information about sports rules, strategies, or verified sports news. For schedules, please refer to the official website or app for the specific sports or events you're interested in.\")"
      ]
     },
     "execution_count": 99,
     "metadata": {},
     "output_type": "execute_result"
    }
   ],
   "source": [
    "await call_agent(knowledge_agent,\"Hi, what are the schedule for today\")"
   ]
  },
  {
   "cell_type": "code",
   "execution_count": 100,
   "metadata": {},
   "outputs": [],
   "source": [
    "# frontdesk_agent\n",
    "frontdesk_agent = Agent(\n",
    "    name=\"Front Desk Agent\",\n",
    "    instructions=(\n",
    "        \"\"\"\n",
    "You are a friendly and professional Relationship Manager assisting athletes, coaches, and customers. Your role is to understand their needs clearly, provide accurate information, guide them politely, and route their requests to the right specialist agent when needed.\n",
    "\n",
    "- When you receive a message, first determine if it is from a user or from another agent.\n",
    "- If the message is from a user:\n",
    "    - Greet warmly and confirm understanding.\n",
    "    - Listen carefully to the user's queries about schedules, training, game rules, or general information.\n",
    "    - If the request is unclear or off-topic, politely ask for clarification or offer help on common topics.\n",
    "    - Maintain a helpful and respectful tone throughout the conversation.\n",
    "    - If the user's request requires a specialist, route it to the appropriate agent and inform the user.\n",
    "- If the message is from another agent:\n",
    "    - Respond professionally and concisely, providing the requested information or assistance.\n",
    "    - If you cannot help, politely indicate so and suggest the next best step.\n",
    "\"\"\"\n",
    "    ),\n",
    "    model=\"gpt-4o-mini\",\n",
    "    output_type=FrontDeskOutput\n",
    ")"
   ]
  },
  {
   "cell_type": "code",
   "execution_count": 101,
   "metadata": {},
   "outputs": [
    {
     "data": {
      "text/plain": [
       "FrontDeskOutput(respond_to_user=\"Hello! Thank you for reaching out. Could you please specify which schedule you are referring to? Is it for training, games, or something else? I'd love to help you out!\", ask_the_agent=False)"
      ]
     },
     "execution_count": 101,
     "metadata": {},
     "output_type": "execute_result"
    }
   ],
   "source": [
    "await call_agent(frontdesk_agent,\"Hi, what are the schedule for today\")"
   ]
  },
  {
   "cell_type": "markdown",
   "metadata": {},
   "source": [
    "### Tools"
   ]
  },
  {
   "cell_type": "markdown",
   "metadata": {},
   "source": [
    "SQL Python Executor"
   ]
  },
  {
   "cell_type": "code",
   "execution_count": 102,
   "metadata": {},
   "outputs": [],
   "source": [
    "import psycopg2\n",
    "from psycopg2.extras import RealDictCursor\n",
    "@function_tool\n",
    "def get_sql_respo(sql_query: str):\n",
    "    \"\"\"Executes SQL query and returns results from athlete schedules.\"\"\"\n",
    "    try:\n",
    "        conn = psycopg2.connect(\n",
    "            host=\"localhost\",\n",
    "            database=\"postgres\",\n",
    "            user=\"postgres\",\n",
    "            password=\"Privacy@100\",\n",
    "            port=5432\n",
    "        )\n",
    "        cursor = conn.cursor(cursor_factory=RealDictCursor)\n",
    "        cursor.execute(sql_query)\n",
    "        results = cursor.fetchall()\n",
    "        cursor.close()\n",
    "        conn.close()\n",
    "        return results\n",
    "    except Exception as e:\n",
    "        print(\"Error executing SQL:\", e)\n",
    "        return []\n"
   ]
  },
  {
   "cell_type": "markdown",
   "metadata": {},
   "source": [
    "Agent Response Moderator"
   ]
  },
  {
   "cell_type": "code",
   "execution_count": 103,
   "metadata": {},
   "outputs": [],
   "source": [
    "@function_tool\n",
    "async def moderator_tool(agent_respo):\n",
    "    tools=[get_sql_respo]\n",
    "    #Response Moderator Agent\n",
    "    moderator_agent = Agent(\n",
    "        name = \"Agents Response Moderator\",\n",
    "        instructions = (\n",
    "        \"\"\"You are an Agents' Response Moderator. Your task is to take the agent’s response and rephrase it into a clear, simple, and smooth version that is easy to understand and friendly in tone.\"\"\" \n",
    "    f\"\"\"The response:{agent_respo}\\\n",
    "    - Maintain the original meaning and key details.\\\n",
    "    - Use natural, conversational language.\\\n",
    "    - Make the response concise but complete.\\\n",
    "    - Ensure the tone is polite, approachable, and professional.\\\n",
    "    - Avoid jargon or overly complex phrases.\\\n",
    "    - You should use the tool get_sql_respo to get SQL response the response\\\n",
    "    Your goal is to enhance readability and improve the user’s experience with clear, friendly communication.\\\n",
    "    \"\"\"\n",
    "        ),\n",
    "        tools=tools\n",
    "        )\n",
    "    result = await call_agent(moderator_agent,agent_respo)\n",
    "    return result"
   ]
  },
  {
   "cell_type": "code",
   "execution_count": 105,
   "metadata": {},
   "outputs": [],
   "source": [
    "# @function_tool\n",
    "# async def moderator_tool(agent_respo: str):\n",
    "#     tools = [get_sql_respo]\n",
    "\n",
    "#     moderator_agent = Agent(\n",
    "#         name=\"Agents Response Moderator\",\n",
    "#         instructions=(\n",
    "#             f\"\"\"You are an Agents' Response Moderator. Your task is to rephrase the following response:\\n\\n\n",
    "#             {agent_respo}\\n\\n\n",
    "#             - Make it clear, polite, and friendly\\n\n",
    "#             - Preserve meaning\\n\n",
    "#             - Improve readability and flow\\n\n",
    "#             - Avoid jargon\\n\n",
    "#             Use get_sql_respo if needed.\"\"\"\n",
    "#         ),\n",
    "#         tools=tools,\n",
    "#         model=\"gpt-4o-mini\"\n",
    "#     )\n",
    "\n",
    "#     result = await call_agent(moderator_agent, agent_respo)\n",
    "#     return result\n"
   ]
  },
  {
   "cell_type": "code",
   "execution_count": 106,
   "metadata": {},
   "outputs": [
    {
     "data": {
      "text/plain": [
       "FrontDeskOutput(respond_to_user=\"Hello! I’d be happy to help with today’s schedule. Could you please specify which team's or athlete's schedule you are looking for?\", ask_the_agent=False)"
      ]
     },
     "execution_count": 106,
     "metadata": {},
     "output_type": "execute_result"
    }
   ],
   "source": [
    "await call_agent(frontdesk_agent,\"Hi, what are the schedule for today\")"
   ]
  },
  {
   "cell_type": "code",
   "execution_count": 120,
   "metadata": {},
   "outputs": [],
   "source": [
    "from typing import Dict\n",
    "\n",
    "# Define moderator_agent once globally (outside function) to avoid redefining it every call\n",
    "moderator_agent = Agent(\n",
    "    name=\"Agents Response Moderator\",\n",
    "    instructions=(\n",
    "        \"You are an Agents' Response Moderator. Your task is to take the agent's response and rephrase it into a clear, \"\n",
    "        \"simple, and smooth version that is easy to understand and friendly in tone.\\n\"\n",
    "        \"- Maintain the original meaning and key details.\\n\"\n",
    "        \"- Use natural, conversational language.\\n\"\n",
    "        \"- Make the response concise but complete.\\n\"\n",
    "        \"- Ensure the tone is polite, approachable, and professional.\\n\"\n",
    "        \"- Avoid jargon or overly complex phrases.\\n\"\n",
    "        \"Your goal is to enhance readability and improve the user's experience with clear, friendly communication.\"\n",
    "    ),\n",
    "    tools=[get_sql_respo]\n",
    ")"
   ]
  },
  {
   "cell_type": "code",
   "execution_count": 128,
   "metadata": {},
   "outputs": [],
   "source": [
    "\n",
    "async def handle_conversation(user_input: str, context: Dict = {}):\n",
    "    # 1. Detect intent\n",
    "    intent_result = await call_agent(intent_agent, user_query=user_input)\n",
    "    is_sql = intent_result.SQL_agent\n",
    "    is_knowledge = intent_result.knowledge_agent\n",
    "\n",
    "    responses = []\n",
    "    final_response = \"\"\n",
    "\n",
    "    if not is_sql and not is_knowledge:\n",
    "        return \"I'm not sure how to help with that yet, but I'll note it down.\", context\n",
    "\n",
    "    # 2. SQL agent flow\n",
    "    if is_sql:\n",
    "        sql_response = await call_agent(sql_agent, user_query=user_input)\n",
    "        print(\"Raw SQL Response:\", sql_response.sql_query)\n",
    "\n",
    "        # Rephrase the SQL agent’s response\n",
    "        moderated_sql_response = await call_agent(moderator_agent, user_query=sql_response.sql_query)\n",
    "        print(\"Moderated SQL Response:\", moderated_sql_response)\n",
    "\n",
    "        # Append and send through front desk\n",
    "        responses.append(moderated_sql_response)\n",
    "        final_response = await call_agent(frontdesk_agent, user_query=moderated_sql_response)\n",
    "\n",
    "    # 3. Knowledge agent flow\n",
    "    if is_knowledge:\n",
    "        knowledge_response = await call_agent(knowledge_agent, user_query=user_input)\n",
    "        responses.append(knowledge_response)\n",
    "        final_response = await call_agent(frontdesk_agent, user_query=knowledge_response)\n",
    "\n",
    "    # 4. Store context\n",
    "    context[\"last_intent\"] = intent_result\n",
    "    context[\"last_response\"] = final_response\n",
    "\n",
    "    return final_response, context\n"
   ]
  },
  {
   "cell_type": "code",
   "execution_count": 130,
   "metadata": {},
   "outputs": [
    {
     "name": "stdout",
     "output_type": "stream",
     "text": [
      "Raw SQL Response: UPDATE public.athlete_batches SET status = 'Open' WHERE contact_no = '6655443322' AND batch_name = 'Flexibility Training' AND \"date\" = '2025-05-24' AND start_time = '08:30:00' AND end_time = '09:30:00' AND status = 'Cancelled';\n",
      "Moderated SQL Response: I see that you're looking to update a specific athlete batch record. Here's a brief explanation: \n",
      "\n",
      "You'll be setting the status to \"Open\" for the Flexibility Training session happening on May 24, 2025, from 8:30 AM to 9:30 AM. This change applies to the batch linked with the contact number 6655443322, and the current status should be \"Cancelled\" before this update takes effect. \n",
      "\n",
      "If you need further help or adjustments, feel free to ask!\n"
     ]
    }
   ],
   "source": [
    "context = {}\n",
    "final_respo  = await handle_conversation(\"\"\"My contact number is 6655443322\n",
    "I wan to attend this session can you make the status Open for me\n",
    "Flexibility Training\n",
    "Date: May 24, 2025\n",
    "Time: 8:30 AM - 9:30 AM\n",
    "Status: Cancelled\"\"\", context)"
   ]
  },
  {
   "cell_type": "code",
   "execution_count": 131,
   "metadata": {},
   "outputs": [
    {
     "name": "stdout",
     "output_type": "stream",
     "text": [
      "Raw SQL Response: SELECT athlete_name, batch_name, \"date\", start_time, end_time, status FROM public.athlete_batches WHERE contact_no = '6655443322' AND \"date\" = '2023-05-24' AND status = 'Open';\n",
      "Moderated SQL Response: It seems there are no open schedules for the athlete with contact number 6655443322 on May 24, 2023. If you need further assistance, feel free to ask!\n"
     ]
    }
   ],
   "source": [
    "context = {}\n",
    "final_respo  = await handle_conversation(\"\"\"\n",
    "My contact number is  6655443322\n",
    "What are my current schedule for 24th may\n",
    "\"\"\", context)\n"
   ]
  },
  {
   "cell_type": "code",
   "execution_count": null,
   "metadata": {},
   "outputs": [],
   "source": []
  },
  {
   "cell_type": "code",
   "execution_count": 47,
   "metadata": {},
   "outputs": [
    {
     "name": "stderr",
     "output_type": "stream",
     "text": [
      "d:\\agents\\.venv\\Lib\\site-packages\\pygments\\regexopt.py:78: RuntimeWarning: coroutine 'handle_conversation' was never awaited\n",
      "  for group in groupby(strings, lambda s: s[0] == first[0])) \\\n",
      "RuntimeWarning: Enable tracemalloc to get the object allocation traceback\n"
     ]
    },
    {
     "ename": "TypeError",
     "evalue": "Markdown expects text, not ('sql_query=\\'SELECT * FROM public.athlete_batches WHERE \"date\" = CURRENT_DATE;\\'', {'last_intent': IntentChecker(SQL_agent=True, knowledge_agent=False), 'last_response': 'sql_query=\\'SELECT * FROM public.athlete_batches WHERE \"date\" = CURRENT_DATE;\\''})",
     "output_type": "error",
     "traceback": [
      "\u001b[31m---------------------------------------------------------------------------\u001b[39m",
      "\u001b[31mTypeError\u001b[39m                                 Traceback (most recent call last)",
      "\u001b[36mCell\u001b[39m\u001b[36m \u001b[39m\u001b[32mIn[47]\u001b[39m\u001b[32m, line 2\u001b[39m\n\u001b[32m      1\u001b[39m \u001b[38;5;28;01mfrom\u001b[39;00m\u001b[38;5;250m \u001b[39m\u001b[34;01mIPython\u001b[39;00m\u001b[34;01m.\u001b[39;00m\u001b[34;01mdisplay\u001b[39;00m\u001b[38;5;250m \u001b[39m\u001b[38;5;28;01mimport\u001b[39;00m Markdown, display\n\u001b[32m----> \u001b[39m\u001b[32m2\u001b[39m display(\u001b[43mMarkdown\u001b[49m\u001b[43m(\u001b[49m\u001b[43mfinal_respo\u001b[49m\u001b[43m)\u001b[49m)\n",
      "\u001b[36mFile \u001b[39m\u001b[32md:\\agents\\.venv\\Lib\\site-packages\\IPython\\core\\display.py:344\u001b[39m, in \u001b[36mDisplayObject.__init__\u001b[39m\u001b[34m(self, data, url, filename, metadata)\u001b[39m\n\u001b[32m    341\u001b[39m     \u001b[38;5;28mself\u001b[39m.metadata = {}\n\u001b[32m    343\u001b[39m \u001b[38;5;28mself\u001b[39m.reload()\n\u001b[32m--> \u001b[39m\u001b[32m344\u001b[39m \u001b[38;5;28;43mself\u001b[39;49m\u001b[43m.\u001b[49m\u001b[43m_check_data\u001b[49m\u001b[43m(\u001b[49m\u001b[43m)\u001b[49m\n",
      "\u001b[36mFile \u001b[39m\u001b[32md:\\agents\\.venv\\Lib\\site-packages\\IPython\\core\\display.py:423\u001b[39m, in \u001b[36mTextDisplayObject._check_data\u001b[39m\u001b[34m(self)\u001b[39m\n\u001b[32m    421\u001b[39m \u001b[38;5;28;01mdef\u001b[39;00m\u001b[38;5;250m \u001b[39m\u001b[34m_check_data\u001b[39m(\u001b[38;5;28mself\u001b[39m):\n\u001b[32m    422\u001b[39m     \u001b[38;5;28;01mif\u001b[39;00m \u001b[38;5;28mself\u001b[39m.data \u001b[38;5;129;01mis\u001b[39;00m \u001b[38;5;129;01mnot\u001b[39;00m \u001b[38;5;28;01mNone\u001b[39;00m \u001b[38;5;129;01mand\u001b[39;00m \u001b[38;5;129;01mnot\u001b[39;00m \u001b[38;5;28misinstance\u001b[39m(\u001b[38;5;28mself\u001b[39m.data, \u001b[38;5;28mstr\u001b[39m):\n\u001b[32m--> \u001b[39m\u001b[32m423\u001b[39m         \u001b[38;5;28;01mraise\u001b[39;00m \u001b[38;5;167;01mTypeError\u001b[39;00m(\u001b[33m\"\u001b[39m\u001b[38;5;132;01m%s\u001b[39;00m\u001b[33m expects text, not \u001b[39m\u001b[38;5;132;01m%r\u001b[39;00m\u001b[33m\"\u001b[39m % (\u001b[38;5;28mself\u001b[39m.\u001b[34m__class__\u001b[39m.\u001b[34m__name__\u001b[39m, \u001b[38;5;28mself\u001b[39m.data))\n",
      "\u001b[31mTypeError\u001b[39m: Markdown expects text, not ('sql_query=\\'SELECT * FROM public.athlete_batches WHERE \"date\" = CURRENT_DATE;\\'', {'last_intent': IntentChecker(SQL_agent=True, knowledge_agent=False), 'last_response': 'sql_query=\\'SELECT * FROM public.athlete_batches WHERE \"date\" = CURRENT_DATE;\\''})"
     ]
    }
   ],
   "source": [
    "from IPython.display import Markdown, display\n",
    "display(Markdown(final_respo))"
   ]
  },
  {
   "cell_type": "code",
   "execution_count": 41,
   "metadata": {},
   "outputs": [
    {
     "name": "stdout",
     "output_type": "stream",
     "text": [
      "Starting conversation with input: Hi, what are the schedules today?\n",
      "Step 1: Detecting intent...\n",
      "Intent result: SQL=True, Knowledge=False\n",
      "Step 2: Routing to agents...\n",
      "Routing to SQL agent...\n",
      "SQL agent response: sql_query='SELECT * FROM public.athlete_batches WHERE \"date\" = CURRENT_DATE;'\n",
      "Step 3: Combining responses...\n",
      "Combined response: sql_query='SELECT * FROM public.athlete_batches WHERE \"date\" = CURRENT_DATE;'\n",
      "Step 4: Checking if moderation needed...\n",
      "Response is short enough, skipping moderation\n",
      "Step 5: Updating context...\n",
      "Context updated\n",
      "Conversation handling complete\n",
      "🤖 Agent says: sql_query='SELECT * FROM public.athlete_batches WHERE \"date\" = CURRENT_DATE;'\n",
      "Starting conversation with input: Tell me about the match rules.\n",
      "Step 1: Detecting intent...\n",
      "Intent result: SQL=False, Knowledge=True\n",
      "Step 2: Routing to agents...\n",
      "Routing to knowledge agent...\n",
      "Knowledge agent response: Could you please specify which sport's match rules you are interested in? Different sports have varied rules governing matches, such as football (soccer), basketball, tennis, etc. Let me know, and I can provide you with relevant information!\n",
      "Step 3: Combining responses...\n",
      "Combined response: Could you please specify which sport's match rules you are interested in? Different sports have varied rules governing matches, such as football (soccer), basketball, tennis, etc. Let me know, and I can provide you with relevant information!\n",
      "Step 4: Checking if moderation needed...\n",
      "Response needs moderation, calling moderator...\n",
      "Moderated response: Could you let me know which sport you're interested in? Each sport, like soccer, basketball, or tennis, has its own set of rules. Once I know, I can share the specific information you need!\n",
      "Step 5: Updating context...\n",
      "Context updated\n",
      "Conversation handling complete\n",
      "🤖 Agent says: Could you let me know which sport you're interested in? Each sport, like soccer, basketball, or tennis, has its own set of rules. Once I know, I can share the specific information you need!\n",
      "Starting conversation with input: Cancel my 5 PM slot.\n",
      "Step 1: Detecting intent...\n",
      "Intent result: SQL=True, Knowledge=False\n",
      "Step 2: Routing to agents...\n",
      "Routing to SQL agent...\n",
      "SQL agent response: sql_query=\"UPDATE public.athlete_batches SET status = 'Cancelled' WHERE start_time = '17:00:00' AND status = 'Open';\"\n",
      "Step 3: Combining responses...\n",
      "Combined response: sql_query=\"UPDATE public.athlete_batches SET status = 'Cancelled' WHERE start_time = '17:00:00' AND status = 'Open';\"\n",
      "Step 4: Checking if moderation needed...\n",
      "Response is short enough, skipping moderation\n",
      "Step 5: Updating context...\n",
      "Context updated\n",
      "Conversation handling complete\n",
      "🤖 Agent says: sql_query=\"UPDATE public.athlete_batches SET status = 'Cancelled' WHERE start_time = '17:00:00' AND status = 'Open';\"\n",
      "Starting conversation with input: Can you explain the coach selection criteria?\n",
      "Step 1: Detecting intent...\n",
      "Intent result: SQL=False, Knowledge=True\n",
      "Step 2: Routing to agents...\n",
      "Routing to knowledge agent...\n",
      "Knowledge agent response: I can only provide information about sports rules, strategies, or official sports news. However, coach selection criteria can vary by sport and organization, often including experience, coaching philosophy, communication skills, and success in previous roles. If you have a specific sport in mind, feel free to ask!\n",
      "Step 3: Combining responses...\n",
      "Combined response: I can only provide information about sports rules, strategies, or official sports news. However, coach selection criteria can vary by sport and organization, often including experience, coaching philosophy, communication skills, and success in previous roles. If you have a specific sport in mind, feel free to ask!\n",
      "Step 4: Checking if moderation needed...\n",
      "Response needs moderation, calling moderator...\n",
      "Moderated response: I can share details about sports rules, strategies, or official news. Coach selection criteria usually depend on the sport and organization, often focusing on experience, coaching philosophy, communication skills, and past success. If you have a sport in mind, just let me know!\n",
      "Step 5: Updating context...\n",
      "Context updated\n",
      "Conversation handling complete\n",
      "🤖 Agent says: I can share details about sports rules, strategies, or official news. Coach selection criteria usually depend on the sport and organization, often focusing on experience, coaching philosophy, communication skills, and past success. If you have a sport in mind, just let me know!\n"
     ]
    }
   ],
   "source": [
    "context = {}\n",
    "\n",
    "user_inputs = [\n",
    "    \"Hi, what are the schedules today?\",\n",
    "    \"Tell me about the match rules.\",\n",
    "    \"Cancel my 5 PM slot.\",\n",
    "    \"Can you explain the coach selection criteria?\"\n",
    "]\n",
    "\n",
    "for user_input in user_inputs:\n",
    "    response, context = await handle_conversation(user_input, context)\n",
    "    print(\"🤖 Agent says:\", response)\n"
   ]
  },
  {
   "cell_type": "code",
   "execution_count": null,
   "metadata": {},
   "outputs": [],
   "source": []
  }
 ],
 "metadata": {
  "kernelspec": {
   "display_name": ".venv",
   "language": "python",
   "name": "python3"
  },
  "language_info": {
   "codemirror_mode": {
    "name": "ipython",
    "version": 3
   },
   "file_extension": ".py",
   "mimetype": "text/x-python",
   "name": "python",
   "nbconvert_exporter": "python",
   "pygments_lexer": "ipython3",
   "version": "3.12.10"
  }
 },
 "nbformat": 4,
 "nbformat_minor": 2
}
